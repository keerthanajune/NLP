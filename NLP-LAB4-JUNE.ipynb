{
 "cells": [
  {
   "cell_type": "markdown",
   "metadata": {},
   "source": [
    "#### 205229116\n",
    "#### KEERTHANA S"
   ]
  },
  {
   "cell_type": "code",
   "execution_count": 23,
   "metadata": {
    "id": "5qfhdUf-x6pu"
   },
   "outputs": [],
   "source": [
    "import gensim\n",
    "from gensim.models.doc2vec import Doc2Vec, TaggedDocument\n",
    "from nltk.tokenize import word_tokenize\n",
    "from sklearn import utils"
   ]
  },
  {
   "cell_type": "markdown",
   "metadata": {
    "id": "jgoo7rqI6IRf"
   },
   "source": [
    "### 2. Create dataset "
   ]
  },
  {
   "cell_type": "code",
   "execution_count": 2,
   "metadata": {
    "id": "fIi4h3iFyTew"
   },
   "outputs": [],
   "source": [
    "data = [\"I love machine learning. Its awesome.\",\n",
    " \"I love coding in python\",\n",
    " \"I love building chatbots\",\n",
    " \"they chat amagingly well\"]\n"
   ]
  },
  {
   "cell_type": "code",
   "execution_count": 3,
   "metadata": {
    "colab": {
     "base_uri": "https://localhost:8080/"
    },
    "id": "Cs2eVjxezgZ8",
    "outputId": "99b39f77-554d-4eeb-dc4c-04b43385ec66"
   },
   "outputs": [
    {
     "name": "stderr",
     "output_type": "stream",
     "text": [
      "[nltk_data] Downloading package punkt to\n",
      "[nltk_data]     C:\\Users\\RAVIKUMAR\\AppData\\Roaming\\nltk_data...\n",
      "[nltk_data]   Package punkt is already up-to-date!\n"
     ]
    },
    {
     "data": {
      "text/plain": [
       "True"
      ]
     },
     "execution_count": 3,
     "metadata": {},
     "output_type": "execute_result"
    }
   ],
   "source": [
    "import nltk\n",
    "nltk.download('punkt')"
   ]
  },
  {
   "cell_type": "markdown",
   "metadata": {
    "id": "gkWuAdXJ6RCI"
   },
   "source": [
    "### 3. Create TaggedDocument "
   ]
  },
  {
   "cell_type": "code",
   "execution_count": 8,
   "metadata": {
    "id": "ecouUdGQzDef"
   },
   "outputs": [],
   "source": [
    "tagged_data = [TaggedDocument(words=word_tokenize(d.lower()), \n",
    "tags=[str(i)]) for i, d in enumerate(data)]\n",
    "\n"
   ]
  },
  {
   "cell_type": "markdown",
   "metadata": {
    "id": "mPLZ2-sY6UK2"
   },
   "source": [
    "### 4. Train Model"
   ]
  },
  {
   "cell_type": "code",
   "execution_count": 9,
   "metadata": {
    "id": "m1MbYRjczk9u"
   },
   "outputs": [],
   "source": [
    "vec_size = 20\n",
    "alpha = 0.025"
   ]
  },
  {
   "cell_type": "code",
   "execution_count": 10,
   "metadata": {
    "colab": {
     "base_uri": "https://localhost:8080/"
    },
    "id": "HW8UVLkbz7SJ",
    "outputId": "56bb4800-6844-44b1-d8e8-078fb0667fa9"
   },
   "outputs": [
    {
     "name": "stdout",
     "output_type": "stream",
     "text": [
      "Model Saved\n"
     ]
    }
   ],
   "source": [
    "model = Doc2Vec(vector_size=vec_size,\n",
    " alpha=alpha, \n",
    " min_alpha=0.00025,\n",
    " min_count=1,\n",
    " dm =1)\n",
    "# build vocabulary\n",
    "model.build_vocab(tagged_data)\n",
    "# shuffle data\n",
    "tagged_data = utils.shuffle(tagged_data)\n",
    "# train Doc2Vec model\n",
    "model.train(tagged_data,\n",
    " total_examples=model.corpus_count,\n",
    " epochs=30)\n",
    "model.save(\"d2v.model\")\n",
    "print(\"Model Saved\")"
   ]
  },
  {
   "cell_type": "markdown",
   "metadata": {
    "id": "QBrLIMpS6aMY"
   },
   "source": [
    "### 5. Find Similar documents for the given document "
   ]
  },
  {
   "cell_type": "code",
   "execution_count": 11,
   "metadata": {
    "colab": {
     "base_uri": "https://localhost:8080/"
    },
    "id": "GPJfIOYu0HFB",
    "outputId": "13ccb7d6-5cf1-438d-cb13-95120cb578f0"
   },
   "outputs": [
    {
     "name": "stdout",
     "output_type": "stream",
     "text": [
      "V1_infer [ 0.00519617  0.01782334  0.01022147  0.01065057  0.01447574 -0.0199398\n",
      "  0.02011528  0.02109879  0.00346945 -0.01960292 -0.02293109  0.00073208\n",
      " -0.01125239  0.00840176 -0.00343032  0.01212935 -0.01899773 -0.00416286\n",
      " -0.00201421  0.01682964]\n"
     ]
    }
   ],
   "source": [
    "from gensim.models.doc2vec import Doc2Vec\n",
    "model= Doc2Vec.load(\"d2v.model\")\n",
    "#to find the vector of a document which is not in training data\n",
    "test_data = word_tokenize(\"I love chatbots\".lower())\n",
    "v1 = model.infer_vector(test_data)\n",
    "print(\"V1_infer\", v1)\n"
   ]
  },
  {
   "cell_type": "code",
   "execution_count": 12,
   "metadata": {
    "colab": {
     "base_uri": "https://localhost:8080/"
    },
    "id": "-udHykqd0VfK",
    "outputId": "c7a85e49-04f3-4819-d052-daa073aa2cb3"
   },
   "outputs": [
    {
     "name": "stdout",
     "output_type": "stream",
     "text": [
      "[('2', 0.009446099400520325), ('0', -0.21024012565612793), ('3', -0.46282413601875305)]\n"
     ]
    }
   ],
   "source": [
    "similar_doc = model.docvecs.most_similar('1')\n",
    "print(similar_doc)\n"
   ]
  },
  {
   "cell_type": "code",
   "execution_count": 13,
   "metadata": {
    "colab": {
     "base_uri": "https://localhost:8080/"
    },
    "id": "cVR94aCK0d_J",
    "outputId": "1c4e768a-c766-40db-c33e-c3d8c90f0e09"
   },
   "outputs": [
    {
     "name": "stdout",
     "output_type": "stream",
     "text": [
      "[-0.02018434 -0.00236802 -0.00030681  0.01665203  0.00634553 -0.01223684\n",
      " -0.00218597 -0.01623602 -0.01932476  0.00293462 -0.01569909 -0.01063541\n",
      "  0.00895522 -0.00494385 -0.02194599  0.01012705  0.00074866 -0.00407897\n",
      "  0.01925504  0.00570323]\n"
     ]
    }
   ],
   "source": [
    "print(model.docvecs['1'])"
   ]
  },
  {
   "cell_type": "markdown",
   "metadata": {
    "id": "bQuE6MF_6fmH"
   },
   "source": [
    "### EXERCISE-2 \n",
    "### Question1. Train the following documents using Doc2Vec model "
   ]
  },
  {
   "cell_type": "code",
   "execution_count": 14,
   "metadata": {
    "id": "-qTDrW121CUB"
   },
   "outputs": [],
   "source": [
    "docs=[\"the house had a tiny little mouse\",\n",
    "\"the cat saw the mouse\",\n",
    "\"the mouse ran away from the house\",\n",
    "\"the cat finally ate the mouse\",\n",
    "\"the end of the mouse story\"\n",
    "]"
   ]
  },
  {
   "cell_type": "code",
   "execution_count": 15,
   "metadata": {
    "id": "XXoZ_aCB1Rmh"
   },
   "outputs": [],
   "source": [
    "tagged_data = [TaggedDocument(words=word_tokenize(d.lower()), \n",
    "tags=[str(i)]) for i, d in enumerate(docs)]\n"
   ]
  },
  {
   "cell_type": "code",
   "execution_count": 16,
   "metadata": {
    "id": "oJIh1uEE1abA"
   },
   "outputs": [],
   "source": [
    "vec_size = 20\n",
    "alpha = 0.025\n",
    "# create model\n",
    "model = Doc2Vec(vector_size=vec_size, alpha=alpha, min_alpha=0.00025,min_count=1,dm =1)\n"
   ]
  },
  {
   "cell_type": "code",
   "execution_count": 17,
   "metadata": {
    "id": "nvwajetm1mD4"
   },
   "outputs": [],
   "source": [
    "model.build_vocab(tagged_data)\n"
   ]
  },
  {
   "cell_type": "code",
   "execution_count": 18,
   "metadata": {
    "id": "rl5t9Ej52xBV"
   },
   "outputs": [],
   "source": [
    "tagged_data = utils.shuffle(tagged_data)\n"
   ]
  },
  {
   "cell_type": "code",
   "execution_count": 19,
   "metadata": {
    "colab": {
     "base_uri": "https://localhost:8080/"
    },
    "id": "Hz8e9P4O2zDN",
    "outputId": "f10436f9-f78b-4fe5-9e7d-b30e18355e65"
   },
   "outputs": [
    {
     "name": "stdout",
     "output_type": "stream",
     "text": [
      "Model Saved\n"
     ]
    }
   ],
   "source": [
    "model.train(tagged_data,total_examples=model.corpus_count,epochs=30)\n",
    "model.save(\"d2v.model\")\n",
    "print(\"Model Saved\")\n"
   ]
  },
  {
   "cell_type": "markdown",
   "metadata": {
    "id": "qG3NineJ6mPv"
   },
   "source": [
    "### Question2. Find the most similar TWO documents for the query document “cat stayed in the house”.\n"
   ]
  },
  {
   "cell_type": "code",
   "execution_count": 20,
   "metadata": {
    "id": "EEjd9-uq25e8"
   },
   "outputs": [],
   "source": [
    "from gensim.models.doc2vec import Doc2Vec\n",
    "model= Doc2Vec.load(\"d2v.model\")\n"
   ]
  },
  {
   "cell_type": "code",
   "execution_count": 21,
   "metadata": {
    "colab": {
     "base_uri": "https://localhost:8080/"
    },
    "id": "EW9SpSnW5ANR",
    "outputId": "6f8e0ad2-3c97-4858-d989-cca6815069a2"
   },
   "outputs": [
    {
     "name": "stdout",
     "output_type": "stream",
     "text": [
      "V1_infer [-0.0062669   0.00175298 -0.01476221  0.00986296 -0.00463995 -0.01760304\n",
      " -0.00143397 -0.00338772  0.02188263 -0.00056616 -0.00777153 -0.00407659\n",
      " -0.00719238 -0.00640276 -0.00526788 -0.02361444 -0.02087607 -0.0215991\n",
      "  0.00745018 -0.02324327]\n"
     ]
    }
   ],
   "source": [
    "test_data = word_tokenize(\"cat stayed in the house\".lower())\n",
    "v1 = model.infer_vector(test_data)\n",
    "print(\"V1_infer\", v1)"
   ]
  },
  {
   "cell_type": "code",
   "execution_count": 22,
   "metadata": {
    "colab": {
     "base_uri": "https://localhost:8080/"
    },
    "id": "inA4xvk63OCR",
    "outputId": "d1b9551b-0d3d-4a1c-b79e-ebae05b7ee4d"
   },
   "outputs": [
    {
     "name": "stdout",
     "output_type": "stream",
     "text": [
      "[('4', 0.017062822356820107), ('1', 0.010161593556404114), ('3', -0.01966913789510727), ('0', -0.3290309011936188)]\n"
     ]
    }
   ],
   "source": [
    "similar_doc = model.docvecs.most_similar('2')\n",
    "print(similar_doc)\n"
   ]
  }
 ],
 "metadata": {
  "colab": {
   "collapsed_sections": [],
   "name": "lab 4 nlp",
   "provenance": []
  },
  "kernelspec": {
   "display_name": "Python 3",
   "language": "python",
   "name": "python3"
  },
  "language_info": {
   "codemirror_mode": {
    "name": "ipython",
    "version": 3
   },
   "file_extension": ".py",
   "mimetype": "text/x-python",
   "name": "python",
   "nbconvert_exporter": "python",
   "pygments_lexer": "ipython3",
   "version": "3.8.8"
  }
 },
 "nbformat": 4,
 "nbformat_minor": 1
}
