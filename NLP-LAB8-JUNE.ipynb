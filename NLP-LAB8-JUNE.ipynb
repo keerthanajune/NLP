{
 "cells": [
  {
   "cell_type": "markdown",
   "id": "764c3354",
   "metadata": {},
   "source": [
    "### DS205229116\n",
    "### KEERTHANA S\n",
    "### NLP - Lab8 - Exploring POS of Large Text Files"
   ]
  },
  {
   "cell_type": "code",
   "execution_count": 1,
   "id": "d4051281",
   "metadata": {},
   "outputs": [],
   "source": [
    "import glob\n",
    "import nltk\n",
    "import pandas as pd\n",
    "from nltk import *\n",
    "from zipfile import ZipFile\n",
    "from nltk.corpus import stopwords\n",
    "stop_words = set(stopwords.words('english'))"
   ]
  },
  {
   "cell_type": "markdown",
   "id": "1bc9acf3",
   "metadata": {},
   "source": [
    "### 1. Open any movie file from your movies sub directory\n"
   ]
  },
  {
   "cell_type": "code",
   "execution_count": 2,
   "id": "6941dfc5",
   "metadata": {},
   "outputs": [
    {
     "name": "stdout",
     "output_type": "stream",
     "text": [
      "In one second, the time it takes to look away from the road to tune a car radio, drop a book to the street, or bump into a stranger, the path of one's life can be drastically altered, as well as the lives of people not even known. Red, a masterful film of chance encounters, parallel lives, mysterious coincidence, and mutual wonderment, is the latest from director Krzysztof Kieslowski. The final and best chapter of his “Three Colors” trilogy, based on the colors of the French flag (blue/liberty, white/equality, red/fraternity), Red seems at first more about isolation than fraternity. The young model Valentine (Jacob, from Kieslowski's The Double Life of Veronique) leads a mundane existence, prolonging a brittle long-distance relationship. She has never met Auguste (Lorit), a law student who lives right around the corner. The retired judge (Trintignant) spends his days eavesdropping on others, seemingly having given up on a life of his own. When Valentine appears at the judge's door with his injured dog, she is rudely dismissed. Repulsed by his indifference and his eavesdropping, Valentine nonetheless returns to him, and slowly, like absorbing the warmth of the sun, they are drawn to each other, opening up in completely unexpected ways. Together with longtime collaborator Krzysztof Piesiewicz, Kieslowski has devised an utterly contemporary fable, imbued with a richness and complexity, yet so understated that the visuals often carry the story. Haunting imagery, swathed in red, permeates the screen. Red holds on to its mysteries tenaciously, revealing them slowly, if ever. Kieslowski's detractors label him pretentious and murky, and they are not likely to change their minds here. Yet Kieslowski understands that life's beauty is not in spite of the unexpected and unexplained, but because of it. The improbabilities of chance are endless; what might have happened if you'd been looking the other way, spoken to the person sitting next to you, been born 20 years earlier… as in life, you never know where this story is going. The film courses with vitality -- and makes you glad to be alive. Kieslowski's deft touch gives Red its real magic; in the end, the subtle nuances are what stay with you: a ringing phone just out of reach, late afternoon sunlight brushing across a face, a shattered beer glass in a bowling alley. Despite the neat tie-in at the film's conclusion, you need not have seen the other two films in this series to follow what is going on here (though both Blue and White are on video and recommended). Kieslowski, who finds the filmmaking process arduous, has announced his retirement. At age 53, with only a handful of remarkable features to his name (including the epic Decalogue), it remains to be seen whether he will keep his word, but either way, he could not have chosen a more memorable testament to his singular talent and vision than Red.\n"
     ]
    }
   ],
   "source": [
    "files = [file for file in glob.glob(\"movies/*\")]\n",
    "with open(files[19],'r',encoding='cp1252') as f:\n",
    "    cont = f.read()\n",
    "    print(cont)"
   ]
  },
  {
   "cell_type": "markdown",
   "id": "6c87b6a9",
   "metadata": {},
   "source": [
    "### 2. Tokenize your movie file and print the following"
   ]
  },
  {
   "cell_type": "markdown",
   "id": "878c8c31",
   "metadata": {},
   "source": [
    "#### a. How many sentences in the file?"
   ]
  },
  {
   "cell_type": "code",
   "execution_count": 3,
   "id": "f7ad06c7",
   "metadata": {},
   "outputs": [
    {
     "data": {
      "text/plain": [
       "19"
      ]
     },
     "execution_count": 3,
     "metadata": {},
     "output_type": "execute_result"
    }
   ],
   "source": [
    "from nltk.tokenize import sent_tokenize\n",
    "sentences=sent_tokenize(cont)\n",
    "len(sentences)"
   ]
  },
  {
   "cell_type": "markdown",
   "id": "7fcfd679",
   "metadata": {},
   "source": [
    "#### b. How many words in the file?"
   ]
  },
  {
   "cell_type": "code",
   "execution_count": 4,
   "id": "faf9403a",
   "metadata": {},
   "outputs": [
    {
     "data": {
      "text/plain": [
       "479"
      ]
     },
     "execution_count": 4,
     "metadata": {},
     "output_type": "execute_result"
    }
   ],
   "source": [
    "from nltk.tokenize import word_tokenize\n",
    "words_in = nltk.tokenize.WhitespaceTokenizer()\n",
    "words = words_in.tokenize(cont)\n",
    "len(words)"
   ]
  },
  {
   "cell_type": "markdown",
   "id": "46417635",
   "metadata": {},
   "source": [
    "#### c. What are the top 10 words and their counts?"
   ]
  },
  {
   "cell_type": "code",
   "execution_count": 5,
   "id": "c2fcaf50",
   "metadata": {},
   "outputs": [
    {
     "data": {
      "text/plain": [
       "[('the', 25),\n",
       " ('a', 15),\n",
       " ('to', 14),\n",
       " ('of', 13),\n",
       " ('and', 12),\n",
       " ('his', 10),\n",
       " ('in', 7),\n",
       " ('The', 6),\n",
       " ('on', 6),\n",
       " ('with', 6)]"
      ]
     },
     "execution_count": 5,
     "metadata": {},
     "output_type": "execute_result"
    }
   ],
   "source": [
    "top_10w=FreqDist(words)\n",
    "top_10w.most_common(10)"
   ]
  },
  {
   "cell_type": "markdown",
   "id": "20b36453",
   "metadata": {},
   "source": [
    "#### d. How many different POS tags are represented in this file?"
   ]
  },
  {
   "cell_type": "code",
   "execution_count": 6,
   "id": "ab860e62",
   "metadata": {},
   "outputs": [
    {
     "data": {
      "text/plain": [
       "20"
      ]
     },
     "execution_count": 6,
     "metadata": {},
     "output_type": "execute_result"
    }
   ],
   "source": [
    "tag = []\n",
    "d_tags = []\n",
    "words = [w for w in words if not w in stop_words]   \n",
    "tagged = nltk.pos_tag(words)\n",
    "for i in tagged:\n",
    "    (word,pos)=i\n",
    "    tag.append(pos)\n",
    "    \n",
    "for j in tag:\n",
    "    if j not in d_tags:\n",
    "        d_tags.append(j)\n",
    "len(d_tags)        "
   ]
  },
  {
   "cell_type": "markdown",
   "id": "5ba67180",
   "metadata": {},
   "source": [
    "#### e. What are the top 10 POS tags and their counts?"
   ]
  },
  {
   "cell_type": "code",
   "execution_count": 7,
   "id": "1eec1e82",
   "metadata": {},
   "outputs": [
    {
     "data": {
      "text/plain": [
       "[(('The', 'DT'), 6),\n",
       " (('Valentine', 'NNP'), 3),\n",
       " ((\"Kieslowski's\", 'NNP'), 3),\n",
       " (('life', 'NN'), 2),\n",
       " (('lives', 'VBZ'), 2),\n",
       " (('film', 'NN'), 2),\n",
       " (('chance', 'NN'), 2),\n",
       " (('Krzysztof', 'NNP'), 2),\n",
       " (('Red', 'NNP'), 2),\n",
       " (('never', 'RB'), 2)]"
      ]
     },
     "execution_count": 7,
     "metadata": {},
     "output_type": "execute_result"
    }
   ],
   "source": [
    "top_pos = FreqDist(tagged)\n",
    "top_pos.most_common(10)"
   ]
  },
  {
   "cell_type": "markdown",
   "id": "c1f4c882",
   "metadata": {},
   "source": [
    "#### f. How many nouns in the file?"
   ]
  },
  {
   "cell_type": "code",
   "execution_count": 8,
   "id": "cdb750f1",
   "metadata": {},
   "outputs": [
    {
     "name": "stdout",
     "output_type": "stream",
     "text": [
      "119\n"
     ]
    }
   ],
   "source": [
    "noun=0\n",
    "for i in top_pos.keys():\n",
    "    (word,pos)=i\n",
    "    if pos == 'NN' or pos == 'NNS' or pos == 'NNP' or pos == 'NNPS':\n",
    "        noun+=1\n",
    "print(noun)"
   ]
  },
  {
   "cell_type": "markdown",
   "id": "5513261c",
   "metadata": {},
   "source": [
    "#### g. How many verbs in the file?"
   ]
  },
  {
   "cell_type": "code",
   "execution_count": 9,
   "id": "63cebb36",
   "metadata": {},
   "outputs": [
    {
     "name": "stdout",
     "output_type": "stream",
     "text": [
      "45\n"
     ]
    }
   ],
   "source": [
    "verbs=0\n",
    "for i in top_pos.keys():\n",
    "    (word,pos)=i\n",
    "    if pos == 'VB' or pos == 'VBD' or pos == 'VBN' or pos == 'VBP' or pos == 'VBZ':\n",
    "        verbs+=1\n",
    "print(verbs)  "
   ]
  },
  {
   "cell_type": "markdown",
   "id": "20f385be",
   "metadata": {},
   "source": [
    "#### h. How many adjectives in the file?"
   ]
  },
  {
   "cell_type": "code",
   "execution_count": 10,
   "id": "f7acfd8d",
   "metadata": {},
   "outputs": [
    {
     "data": {
      "text/plain": [
       "48"
      ]
     },
     "execution_count": 10,
     "metadata": {},
     "output_type": "execute_result"
    }
   ],
   "source": [
    "adj = []\n",
    "for i in top_pos.keys():\n",
    "    (word,pos)=i\n",
    "    if pos == 'JJ' or pos == 'JJR' or pos == 'JJS':\n",
    "        adj.append(i)\n",
    "len(adj)        "
   ]
  },
  {
   "cell_type": "markdown",
   "id": "c5bce3e4",
   "metadata": {},
   "source": [
    "#### i. How many adverbs in the file?"
   ]
  },
  {
   "cell_type": "code",
   "execution_count": 11,
   "id": "22fd4b43",
   "metadata": {},
   "outputs": [
    {
     "data": {
      "text/plain": [
       "17"
      ]
     },
     "execution_count": 11,
     "metadata": {},
     "output_type": "execute_result"
    }
   ],
   "source": [
    "adv=[]\n",
    "for i in top_pos.keys():\n",
    "    (word,pos)=i\n",
    "    if pos == 'RB' or pos == 'RBR' or pos == 'RBS' or pos == 'BP':\n",
    "        adv.append(i)\n",
    "len(adv)    "
   ]
  },
  {
   "cell_type": "markdown",
   "id": "bb23877f",
   "metadata": {},
   "source": [
    "#### j. What is the most frequent adverb?"
   ]
  },
  {
   "cell_type": "code",
   "execution_count": 12,
   "id": "ff8c3ec2",
   "metadata": {},
   "outputs": [
    {
     "data": {
      "text/plain": [
       "[(('away', 'RB'), 1)]"
      ]
     },
     "execution_count": 12,
     "metadata": {},
     "output_type": "execute_result"
    }
   ],
   "source": [
    "adv = FreqDist(adv)\n",
    "adv.most_common(1)"
   ]
  },
  {
   "cell_type": "markdown",
   "id": "27e3dc9d",
   "metadata": {},
   "source": [
    "#### k. What is the most frequent adjective?"
   ]
  },
  {
   "cell_type": "code",
   "execution_count": 13,
   "id": "1b112560",
   "metadata": {},
   "outputs": [
    {
     "data": {
      "text/plain": [
       "[(('street,', 'JJ'), 1)]"
      ]
     },
     "execution_count": 13,
     "metadata": {},
     "output_type": "execute_result"
    }
   ],
   "source": [
    "adj = FreqDist(adj)\n",
    "adj.most_common(1)"
   ]
  }
 ],
 "metadata": {
  "kernelspec": {
   "display_name": "Python 3",
   "language": "python",
   "name": "python3"
  },
  "language_info": {
   "codemirror_mode": {
    "name": "ipython",
    "version": 3
   },
   "file_extension": ".py",
   "mimetype": "text/x-python",
   "name": "python",
   "nbconvert_exporter": "python",
   "pygments_lexer": "ipython3",
   "version": "3.8.8"
  }
 },
 "nbformat": 4,
 "nbformat_minor": 5
}
