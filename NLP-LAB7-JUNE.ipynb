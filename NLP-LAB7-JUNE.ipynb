{
 "cells": [
  {
   "cell_type": "markdown",
   "id": "dbcf2e8f",
   "metadata": {},
   "source": [
    "### KEERTHANA S\n",
    "### DS205229116"
   ]
  },
  {
   "cell_type": "markdown",
   "id": "cf3be2ac",
   "metadata": {},
   "source": [
    "### Lab7. Sentiment Analysis on Movie Reviews \n",
    "#### In this lab, you will build Multinomial Naïve Bayes model for movie reviews from Rotton Tomotto Dataset. "
   ]
  },
  {
   "cell_type": "markdown",
   "id": "c77f3dd9",
   "metadata": {},
   "source": [
    "## EXERCISE-1"
   ]
  },
  {
   "cell_type": "markdown",
   "id": "e1a03bfc",
   "metadata": {},
   "source": [
    "### 1. Open the file, 'rotten_tomato_train.tsv' and read into a DataFrame"
   ]
  },
  {
   "cell_type": "code",
   "execution_count": 1,
   "id": "ba49aab3",
   "metadata": {},
   "outputs": [],
   "source": [
    "import pandas as pd"
   ]
  },
  {
   "cell_type": "code",
   "execution_count": 2,
   "id": "29ead3d3",
   "metadata": {},
   "outputs": [],
   "source": [
    "rotten_tomato_train = pd.read_csv('rotten_tomato_train.tsv', sep='\\t')"
   ]
  },
  {
   "cell_type": "markdown",
   "id": "57a4de6e",
   "metadata": {},
   "source": [
    "### 2. Print the basic statistics such as head, shape, describe, and columns"
   ]
  },
  {
   "cell_type": "code",
   "execution_count": 3,
   "id": "5a468f15",
   "metadata": {},
   "outputs": [
    {
     "data": {
      "text/html": [
       "<div>\n",
       "<style scoped>\n",
       "    .dataframe tbody tr th:only-of-type {\n",
       "        vertical-align: middle;\n",
       "    }\n",
       "\n",
       "    .dataframe tbody tr th {\n",
       "        vertical-align: top;\n",
       "    }\n",
       "\n",
       "    .dataframe thead th {\n",
       "        text-align: right;\n",
       "    }\n",
       "</style>\n",
       "<table border=\"1\" class=\"dataframe\">\n",
       "  <thead>\n",
       "    <tr style=\"text-align: right;\">\n",
       "      <th></th>\n",
       "      <th>PhraseId</th>\n",
       "      <th>SentenceId</th>\n",
       "      <th>Phrase</th>\n",
       "      <th>Sentiment</th>\n",
       "    </tr>\n",
       "  </thead>\n",
       "  <tbody>\n",
       "    <tr>\n",
       "      <th>0</th>\n",
       "      <td>1</td>\n",
       "      <td>1</td>\n",
       "      <td>A series of escapades demonstrating the adage ...</td>\n",
       "      <td>1</td>\n",
       "    </tr>\n",
       "    <tr>\n",
       "      <th>1</th>\n",
       "      <td>2</td>\n",
       "      <td>1</td>\n",
       "      <td>A series of escapades demonstrating the adage ...</td>\n",
       "      <td>2</td>\n",
       "    </tr>\n",
       "    <tr>\n",
       "      <th>2</th>\n",
       "      <td>3</td>\n",
       "      <td>1</td>\n",
       "      <td>A series</td>\n",
       "      <td>2</td>\n",
       "    </tr>\n",
       "    <tr>\n",
       "      <th>3</th>\n",
       "      <td>4</td>\n",
       "      <td>1</td>\n",
       "      <td>A</td>\n",
       "      <td>2</td>\n",
       "    </tr>\n",
       "    <tr>\n",
       "      <th>4</th>\n",
       "      <td>5</td>\n",
       "      <td>1</td>\n",
       "      <td>series</td>\n",
       "      <td>2</td>\n",
       "    </tr>\n",
       "  </tbody>\n",
       "</table>\n",
       "</div>"
      ],
      "text/plain": [
       "   PhraseId  SentenceId                                             Phrase  \\\n",
       "0         1           1  A series of escapades demonstrating the adage ...   \n",
       "1         2           1  A series of escapades demonstrating the adage ...   \n",
       "2         3           1                                           A series   \n",
       "3         4           1                                                  A   \n",
       "4         5           1                                             series   \n",
       "\n",
       "   Sentiment  \n",
       "0          1  \n",
       "1          2  \n",
       "2          2  \n",
       "3          2  \n",
       "4          2  "
      ]
     },
     "execution_count": 3,
     "metadata": {},
     "output_type": "execute_result"
    }
   ],
   "source": [
    "rotten_tomato_train.head()"
   ]
  },
  {
   "cell_type": "code",
   "execution_count": 4,
   "id": "5a8ee86a",
   "metadata": {},
   "outputs": [
    {
     "data": {
      "text/plain": [
       "(156060, 4)"
      ]
     },
     "execution_count": 4,
     "metadata": {},
     "output_type": "execute_result"
    }
   ],
   "source": [
    "rotten_tomato_train.shape"
   ]
  },
  {
   "cell_type": "code",
   "execution_count": 5,
   "id": "0b83ef3d",
   "metadata": {},
   "outputs": [
    {
     "data": {
      "text/plain": [
       "<bound method NDFrame.describe of         PhraseId  SentenceId  \\\n",
       "0              1           1   \n",
       "1              2           1   \n",
       "2              3           1   \n",
       "3              4           1   \n",
       "4              5           1   \n",
       "...          ...         ...   \n",
       "156055    156056        8544   \n",
       "156056    156057        8544   \n",
       "156057    156058        8544   \n",
       "156058    156059        8544   \n",
       "156059    156060        8544   \n",
       "\n",
       "                                                   Phrase  Sentiment  \n",
       "0       A series of escapades demonstrating the adage ...          1  \n",
       "1       A series of escapades demonstrating the adage ...          2  \n",
       "2                                                A series          2  \n",
       "3                                                       A          2  \n",
       "4                                                  series          2  \n",
       "...                                                   ...        ...  \n",
       "156055                                          Hearst 's          2  \n",
       "156056                          forced avuncular chortles          1  \n",
       "156057                                 avuncular chortles          3  \n",
       "156058                                          avuncular          2  \n",
       "156059                                           chortles          2  \n",
       "\n",
       "[156060 rows x 4 columns]>"
      ]
     },
     "execution_count": 5,
     "metadata": {},
     "output_type": "execute_result"
    }
   ],
   "source": [
    "rotten_tomato_train.describe"
   ]
  },
  {
   "cell_type": "code",
   "execution_count": 6,
   "id": "3d4d279d",
   "metadata": {},
   "outputs": [
    {
     "data": {
      "text/plain": [
       "Index(['PhraseId', 'SentenceId', 'Phrase', 'Sentiment'], dtype='object')"
      ]
     },
     "execution_count": 6,
     "metadata": {},
     "output_type": "execute_result"
    }
   ],
   "source": [
    "rotten_tomato_train.columns"
   ]
  },
  {
   "cell_type": "markdown",
   "id": "d5e6d373",
   "metadata": {},
   "source": [
    "### 3. How many reviews exist for each sentiment?"
   ]
  },
  {
   "cell_type": "code",
   "execution_count": 7,
   "id": "97d010e6",
   "metadata": {},
   "outputs": [
    {
     "data": {
      "text/plain": [
       "Sentiment\n",
       "0     7072\n",
       "1    27273\n",
       "2    79582\n",
       "3    32927\n",
       "4     9206\n",
       "Name: Phrase, dtype: int64"
      ]
     },
     "execution_count": 7,
     "metadata": {},
     "output_type": "execute_result"
    }
   ],
   "source": [
    "review=rotten_tomato_train.groupby('Sentiment').count()\n",
    "review.Phrase"
   ]
  },
  {
   "cell_type": "markdown",
   "id": "916c7bfc",
   "metadata": {},
   "source": [
    "## EXERCISE-2"
   ]
  },
  {
   "cell_type": "markdown",
   "id": "bcdc3cb6",
   "metadata": {},
   "source": [
    "### 1. Extract 200 reviews for each sentiment, store them into a new dataframe and create a smaller dataset. Save this dataframe in a new file, say, “small_rotten_train.csv”."
   ]
  },
  {
   "cell_type": "code",
   "execution_count": 8,
   "id": "9b75bf29",
   "metadata": {},
   "outputs": [],
   "source": [
    "a=rotten_tomato_train.loc[rotten_tomato_train.Sentiment == 0]\n",
    "b=rotten_tomato_train.loc[rotten_tomato_train.Sentiment == 1]\n",
    "c=rotten_tomato_train.loc[rotten_tomato_train.Sentiment == 2]\n",
    "d=rotten_tomato_train.loc[rotten_tomato_train.Sentiment == 3]\n",
    "e=rotten_tomato_train.loc[rotten_tomato_train.Sentiment == 4]"
   ]
  },
  {
   "cell_type": "code",
   "execution_count": 9,
   "id": "347901ab",
   "metadata": {},
   "outputs": [],
   "source": [
    "small_rotten_train=pd.concat([a[:200],b[:200],c[:200],d[:200],e[:200]])"
   ]
  },
  {
   "cell_type": "markdown",
   "id": "03088c1b",
   "metadata": {},
   "source": [
    "## EXERCISE-3"
   ]
  },
  {
   "cell_type": "markdown",
   "id": "6723e859",
   "metadata": {},
   "source": [
    "### 1. Open the file, “small_rotten_train.csv”."
   ]
  },
  {
   "cell_type": "code",
   "execution_count": 10,
   "id": "9a2bf977",
   "metadata": {},
   "outputs": [
    {
     "data": {
      "text/html": [
       "<div>\n",
       "<style scoped>\n",
       "    .dataframe tbody tr th:only-of-type {\n",
       "        vertical-align: middle;\n",
       "    }\n",
       "\n",
       "    .dataframe tbody tr th {\n",
       "        vertical-align: top;\n",
       "    }\n",
       "\n",
       "    .dataframe thead th {\n",
       "        text-align: right;\n",
       "    }\n",
       "</style>\n",
       "<table border=\"1\" class=\"dataframe\">\n",
       "  <thead>\n",
       "    <tr style=\"text-align: right;\">\n",
       "      <th></th>\n",
       "      <th>PhraseId</th>\n",
       "      <th>SentenceId</th>\n",
       "      <th>Phrase</th>\n",
       "      <th>Sentiment</th>\n",
       "    </tr>\n",
       "  </thead>\n",
       "  <tbody>\n",
       "    <tr>\n",
       "      <th>101</th>\n",
       "      <td>102</td>\n",
       "      <td>3</td>\n",
       "      <td>would have a hard time sitting through this one</td>\n",
       "      <td>0</td>\n",
       "    </tr>\n",
       "    <tr>\n",
       "      <th>103</th>\n",
       "      <td>104</td>\n",
       "      <td>3</td>\n",
       "      <td>have a hard time sitting through this one</td>\n",
       "      <td>0</td>\n",
       "    </tr>\n",
       "    <tr>\n",
       "      <th>157</th>\n",
       "      <td>158</td>\n",
       "      <td>5</td>\n",
       "      <td>Aggressive self-glorification and a manipulati...</td>\n",
       "      <td>0</td>\n",
       "    </tr>\n",
       "    <tr>\n",
       "      <th>159</th>\n",
       "      <td>160</td>\n",
       "      <td>5</td>\n",
       "      <td>self-glorification and a manipulative whitewash</td>\n",
       "      <td>0</td>\n",
       "    </tr>\n",
       "    <tr>\n",
       "      <th>201</th>\n",
       "      <td>202</td>\n",
       "      <td>7</td>\n",
       "      <td>Trouble Every Day is a plodding mess .</td>\n",
       "      <td>0</td>\n",
       "    </tr>\n",
       "    <tr>\n",
       "      <th>...</th>\n",
       "      <td>...</td>\n",
       "      <td>...</td>\n",
       "      <td>...</td>\n",
       "      <td>...</td>\n",
       "    </tr>\n",
       "    <tr>\n",
       "      <th>3744</th>\n",
       "      <td>3745</td>\n",
       "      <td>142</td>\n",
       "      <td>amazing slapstick</td>\n",
       "      <td>4</td>\n",
       "    </tr>\n",
       "    <tr>\n",
       "      <th>3745</th>\n",
       "      <td>3746</td>\n",
       "      <td>142</td>\n",
       "      <td>amazing</td>\n",
       "      <td>4</td>\n",
       "    </tr>\n",
       "    <tr>\n",
       "      <th>3847</th>\n",
       "      <td>3848</td>\n",
       "      <td>147</td>\n",
       "      <td>When cowering and begging at the feet a scruff...</td>\n",
       "      <td>4</td>\n",
       "    </tr>\n",
       "    <tr>\n",
       "      <th>3866</th>\n",
       "      <td>3867</td>\n",
       "      <td>147</td>\n",
       "      <td>gives her best performance since Abel Ferrara ...</td>\n",
       "      <td>4</td>\n",
       "    </tr>\n",
       "    <tr>\n",
       "      <th>3993</th>\n",
       "      <td>3994</td>\n",
       "      <td>151</td>\n",
       "      <td>Spielberg 's realization of a near-future Amer...</td>\n",
       "      <td>4</td>\n",
       "    </tr>\n",
       "  </tbody>\n",
       "</table>\n",
       "<p>1000 rows × 4 columns</p>\n",
       "</div>"
      ],
      "text/plain": [
       "      PhraseId  SentenceId                                             Phrase  \\\n",
       "101        102           3    would have a hard time sitting through this one   \n",
       "103        104           3          have a hard time sitting through this one   \n",
       "157        158           5  Aggressive self-glorification and a manipulati...   \n",
       "159        160           5    self-glorification and a manipulative whitewash   \n",
       "201        202           7             Trouble Every Day is a plodding mess .   \n",
       "...        ...         ...                                                ...   \n",
       "3744      3745         142                                  amazing slapstick   \n",
       "3745      3746         142                                            amazing   \n",
       "3847      3848         147  When cowering and begging at the feet a scruff...   \n",
       "3866      3867         147  gives her best performance since Abel Ferrara ...   \n",
       "3993      3994         151  Spielberg 's realization of a near-future Amer...   \n",
       "\n",
       "      Sentiment  \n",
       "101           0  \n",
       "103           0  \n",
       "157           0  \n",
       "159           0  \n",
       "201           0  \n",
       "...         ...  \n",
       "3744          4  \n",
       "3745          4  \n",
       "3847          4  \n",
       "3866          4  \n",
       "3993          4  \n",
       "\n",
       "[1000 rows x 4 columns]"
      ]
     },
     "execution_count": 10,
     "metadata": {},
     "output_type": "execute_result"
    }
   ],
   "source": [
    "small_rotten_train"
   ]
  },
  {
   "cell_type": "markdown",
   "id": "15ebc43f",
   "metadata": {},
   "source": [
    "### 2. The review text are stored in “Phrase” column. Extract that into a separate DataFrame, say “X”."
   ]
  },
  {
   "cell_type": "code",
   "execution_count": 11,
   "id": "ca06a7ba",
   "metadata": {},
   "outputs": [],
   "source": [
    "X = small_rotten_train.Phrase"
   ]
  },
  {
   "cell_type": "markdown",
   "id": "d6e0787c",
   "metadata": {},
   "source": [
    "### 3. The “sentiment” column is your target, say “y”."
   ]
  },
  {
   "cell_type": "code",
   "execution_count": 12,
   "id": "39a91802",
   "metadata": {},
   "outputs": [],
   "source": [
    "y = small_rotten_train.Sentiment"
   ]
  },
  {
   "cell_type": "markdown",
   "id": "8e7c81ce",
   "metadata": {},
   "source": [
    "### 4. Perform pre-processing: convert into lower case, remove stop words and lemmatize. The following function will help."
   ]
  },
  {
   "cell_type": "code",
   "execution_count": 13,
   "id": "41e56bc0",
   "metadata": {},
   "outputs": [
    {
     "name": "stderr",
     "output_type": "stream",
     "text": [
      "[nltk_data] Downloading package stopwords to\n",
      "[nltk_data]     C:\\Users\\RAVIKUMAR\\AppData\\Roaming\\nltk_data...\n",
      "[nltk_data]   Package stopwords is already up-to-date!\n"
     ]
    }
   ],
   "source": [
    "import nltk\n",
    "from nltk.corpus import stopwords\n",
    "nltk.download('stopwords')\n",
    "stop_words = set(stopwords.words('english'))  "
   ]
  },
  {
   "cell_type": "code",
   "execution_count": 14,
   "id": "41bcdfe2",
   "metadata": {},
   "outputs": [],
   "source": [
    "from nltk.stem import WordNetLemmatizer\n",
    "lemmatizer = WordNetLemmatizer()"
   ]
  },
  {
   "cell_type": "code",
   "execution_count": 15,
   "id": "ec990435",
   "metadata": {},
   "outputs": [],
   "source": [
    "def clean_review(review):\n",
    "    tokens = review.lower().split()\n",
    "    filtered_tokens = [lemmatizer.lemmatize(w) for w in tokens if w not in stop_words]\n",
    "    return \" \".join(filtered_tokens)"
   ]
  },
  {
   "cell_type": "markdown",
   "id": "3373f007",
   "metadata": {},
   "source": [
    "### 5. Apply the above function to X"
   ]
  },
  {
   "cell_type": "code",
   "execution_count": 16,
   "id": "9e244198",
   "metadata": {},
   "outputs": [],
   "source": [
    "temp=X.tolist()\n",
    "fax=[]"
   ]
  },
  {
   "cell_type": "code",
   "execution_count": 17,
   "id": "40af6c0a",
   "metadata": {},
   "outputs": [],
   "source": [
    "for i in temp:\n",
    "    fax.append(clean_review(i))\n",
    "n_X=pd.Series(fax)"
   ]
  },
  {
   "cell_type": "markdown",
   "id": "c9c9df22",
   "metadata": {},
   "source": [
    "### 6. Split X and y for training and testing (Use 20% for testing)"
   ]
  },
  {
   "cell_type": "code",
   "execution_count": 18,
   "id": "b17bfee3",
   "metadata": {},
   "outputs": [],
   "source": [
    "from sklearn.model_selection import train_test_split"
   ]
  },
  {
   "cell_type": "code",
   "execution_count": 19,
   "id": "1763d03c",
   "metadata": {},
   "outputs": [],
   "source": [
    "X_train,X_test,y_train,y_test = train_test_split(n_X,y,train_size=0.8,test_size=0.2)"
   ]
  },
  {
   "cell_type": "markdown",
   "id": "7b618d39",
   "metadata": {},
   "source": [
    "### 7. Create TfidfVectorizer as below and perfrom vectorization on X_train using fit_perform() method."
   ]
  },
  {
   "cell_type": "code",
   "execution_count": 20,
   "id": "80dc977f",
   "metadata": {},
   "outputs": [],
   "source": [
    "from sklearn.feature_extraction.text import TfidfVectorizer"
   ]
  },
  {
   "cell_type": "code",
   "execution_count": 21,
   "id": "ed51688e",
   "metadata": {},
   "outputs": [
    {
     "data": {
      "text/plain": [
       "TfidfVectorizer(min_df=3, ngram_range=(1, 2), use_idf=1)"
      ]
     },
     "execution_count": 21,
     "metadata": {},
     "output_type": "execute_result"
    }
   ],
   "source": [
    "tf=TfidfVectorizer(min_df=3, max_features=None,ngram_range=(1, 2), use_idf=1)\n",
    "tf"
   ]
  },
  {
   "cell_type": "code",
   "execution_count": 22,
   "id": "2fe13b4a",
   "metadata": {},
   "outputs": [
    {
     "data": {
      "text/plain": [
       "(800, 883)"
      ]
     },
     "execution_count": 22,
     "metadata": {},
     "output_type": "execute_result"
    }
   ],
   "source": [
    "tfi=tf.fit_transform(X_train)\n",
    "tfi.shape"
   ]
  },
  {
   "cell_type": "markdown",
   "id": "2dea04c6",
   "metadata": {},
   "source": [
    "### 8. Create MultinomialNB model and perform training using X_train_lemmartized and y_train."
   ]
  },
  {
   "cell_type": "code",
   "execution_count": 23,
   "id": "45f36837",
   "metadata": {},
   "outputs": [],
   "source": [
    "from sklearn.feature_extraction.text import CountVectorizer\n",
    "cv = CountVectorizer()"
   ]
  },
  {
   "cell_type": "code",
   "execution_count": 24,
   "id": "25571a25",
   "metadata": {},
   "outputs": [],
   "source": [
    "X_train_mnb = cv.fit_transform(X_train)\n",
    "X_test_mnb = cv.transform(X_test)"
   ]
  },
  {
   "cell_type": "code",
   "execution_count": 25,
   "id": "b06a340f",
   "metadata": {},
   "outputs": [],
   "source": [
    "from sklearn.naive_bayes import MultinomialNB"
   ]
  },
  {
   "cell_type": "code",
   "execution_count": 26,
   "id": "baf67efd",
   "metadata": {},
   "outputs": [],
   "source": [
    "clf = MultinomialNB()"
   ]
  },
  {
   "cell_type": "code",
   "execution_count": 27,
   "id": "c44bf86f",
   "metadata": {},
   "outputs": [
    {
     "data": {
      "text/plain": [
       "MultinomialNB()"
      ]
     },
     "execution_count": 27,
     "metadata": {},
     "output_type": "execute_result"
    }
   ],
   "source": [
    "clf.fit(X_train_mnb,y_train)"
   ]
  },
  {
   "cell_type": "markdown",
   "id": "1354b47c",
   "metadata": {},
   "source": [
    "### 9. Perform validation on X_test lemmatized and predict output"
   ]
  },
  {
   "cell_type": "code",
   "execution_count": 28,
   "id": "6ddde944",
   "metadata": {},
   "outputs": [
    {
     "data": {
      "text/plain": [
       "array([4, 3, 0, 1, 1, 3, 1, 0, 0, 3, 1, 3, 4, 4, 1, 4, 2, 0, 1, 4, 0, 1,\n",
       "       1, 3, 2, 4, 0, 3, 3, 2, 1, 0, 1, 4, 3, 2, 3, 1, 1, 4, 2, 1, 2, 3,\n",
       "       1, 4, 1, 2, 3, 4, 1, 1, 2, 0, 3, 4, 1, 2, 3, 2, 1, 2, 4, 3, 1, 0,\n",
       "       4, 2, 4, 0, 1, 2, 4, 1, 2, 2, 0, 1, 1, 1, 4, 1, 1, 2, 2, 3, 1, 3,\n",
       "       1, 4, 2, 1, 1, 4, 1, 1, 1, 3, 4, 1, 0, 2, 1, 1, 4, 0, 4, 2, 3, 4,\n",
       "       0, 2, 0, 3, 0, 2, 2, 0, 3, 4, 1, 1, 1, 3, 1, 1, 1, 1, 3, 1, 2, 4,\n",
       "       3, 4, 2, 1, 1, 0, 1, 1, 4, 2, 4, 1, 2, 2, 3, 4, 4, 1, 0, 1, 4, 1,\n",
       "       0, 0, 4, 4, 3, 4, 3, 4, 4, 2, 0, 3, 4, 1, 1, 2, 3, 4, 2, 2, 4, 1,\n",
       "       1, 4, 1, 0, 1, 4, 0, 3, 4, 3, 1, 0, 0, 4, 4, 3, 0, 3, 1, 2, 4, 2,\n",
       "       1, 4], dtype=int64)"
      ]
     },
     "execution_count": 28,
     "metadata": {},
     "output_type": "execute_result"
    }
   ],
   "source": [
    "y_lem_pred = clf.predict(X_test_mnb)\n",
    "y_lem_pred"
   ]
  },
  {
   "cell_type": "markdown",
   "id": "9d28aa73",
   "metadata": {},
   "source": [
    "### 10. Print classification_report and accuracy score."
   ]
  },
  {
   "cell_type": "code",
   "execution_count": 29,
   "id": "3309dac2",
   "metadata": {},
   "outputs": [],
   "source": [
    "from sklearn.metrics import classification_report"
   ]
  },
  {
   "cell_type": "code",
   "execution_count": 30,
   "id": "6ee92646",
   "metadata": {},
   "outputs": [
    {
     "name": "stdout",
     "output_type": "stream",
     "text": [
      "              precision    recall  f1-score   support\n",
      "\n",
      "           0       0.85      0.66      0.74        35\n",
      "           1       0.66      0.82      0.73        50\n",
      "           2       0.74      0.64      0.68        39\n",
      "           3       0.78      0.60      0.68        42\n",
      "           4       0.64      0.85      0.73        34\n",
      "\n",
      "    accuracy                           0.71       200\n",
      "   macro avg       0.73      0.71      0.71       200\n",
      "weighted avg       0.73      0.71      0.71       200\n",
      "\n"
     ]
    }
   ],
   "source": [
    "print(classification_report(y_test,y_lem_pred))"
   ]
  },
  {
   "cell_type": "code",
   "execution_count": 31,
   "id": "1ae72aa7",
   "metadata": {},
   "outputs": [],
   "source": [
    "from sklearn.metrics import accuracy_score"
   ]
  },
  {
   "cell_type": "code",
   "execution_count": 32,
   "id": "40ef34ab",
   "metadata": {},
   "outputs": [
    {
     "data": {
      "text/plain": [
       "0.715"
      ]
     },
     "execution_count": 32,
     "metadata": {},
     "output_type": "execute_result"
    }
   ],
   "source": [
    "accuracy_score(y_test,y_lem_pred)"
   ]
  },
  {
   "cell_type": "markdown",
   "id": "a1019163",
   "metadata": {},
   "source": [
    "### EXERCISE-4\n",
    "### 1. Open, 'rotten_tomato_test.tsv’ file into dataframe"
   ]
  },
  {
   "cell_type": "code",
   "execution_count": 34,
   "id": "62ee4ff6",
   "metadata": {},
   "outputs": [],
   "source": [
    "rotten_tomato_test = pd.read_csv('rotten_tomato_test.tsv', sep='\\t')"
   ]
  },
  {
   "cell_type": "code",
   "execution_count": 35,
   "id": "7489306e",
   "metadata": {},
   "outputs": [
    {
     "data": {
      "text/html": [
       "<div>\n",
       "<style scoped>\n",
       "    .dataframe tbody tr th:only-of-type {\n",
       "        vertical-align: middle;\n",
       "    }\n",
       "\n",
       "    .dataframe tbody tr th {\n",
       "        vertical-align: top;\n",
       "    }\n",
       "\n",
       "    .dataframe thead th {\n",
       "        text-align: right;\n",
       "    }\n",
       "</style>\n",
       "<table border=\"1\" class=\"dataframe\">\n",
       "  <thead>\n",
       "    <tr style=\"text-align: right;\">\n",
       "      <th></th>\n",
       "      <th>PhraseId</th>\n",
       "      <th>SentenceId</th>\n",
       "      <th>Phrase</th>\n",
       "    </tr>\n",
       "  </thead>\n",
       "  <tbody>\n",
       "    <tr>\n",
       "      <th>0</th>\n",
       "      <td>156061</td>\n",
       "      <td>8545</td>\n",
       "      <td>An intermittently pleasing but mostly routine ...</td>\n",
       "    </tr>\n",
       "    <tr>\n",
       "      <th>1</th>\n",
       "      <td>156062</td>\n",
       "      <td>8545</td>\n",
       "      <td>An intermittently pleasing but mostly routine ...</td>\n",
       "    </tr>\n",
       "    <tr>\n",
       "      <th>2</th>\n",
       "      <td>156063</td>\n",
       "      <td>8545</td>\n",
       "      <td>An</td>\n",
       "    </tr>\n",
       "    <tr>\n",
       "      <th>3</th>\n",
       "      <td>156064</td>\n",
       "      <td>8545</td>\n",
       "      <td>intermittently pleasing but mostly routine effort</td>\n",
       "    </tr>\n",
       "    <tr>\n",
       "      <th>4</th>\n",
       "      <td>156065</td>\n",
       "      <td>8545</td>\n",
       "      <td>intermittently pleasing but mostly routine</td>\n",
       "    </tr>\n",
       "  </tbody>\n",
       "</table>\n",
       "</div>"
      ],
      "text/plain": [
       "   PhraseId  SentenceId                                             Phrase\n",
       "0    156061        8545  An intermittently pleasing but mostly routine ...\n",
       "1    156062        8545  An intermittently pleasing but mostly routine ...\n",
       "2    156063        8545                                                 An\n",
       "3    156064        8545  intermittently pleasing but mostly routine effort\n",
       "4    156065        8545         intermittently pleasing but mostly routine"
      ]
     },
     "execution_count": 35,
     "metadata": {},
     "output_type": "execute_result"
    }
   ],
   "source": [
    "rotten_tomato_test.head()"
   ]
  },
  {
   "cell_type": "code",
   "execution_count": 36,
   "id": "ac8e10b1",
   "metadata": {},
   "outputs": [
    {
     "data": {
      "text/plain": [
       "(66292, 3)"
      ]
     },
     "execution_count": 36,
     "metadata": {},
     "output_type": "execute_result"
    }
   ],
   "source": [
    "rotten_tomato_test.shape"
   ]
  },
  {
   "cell_type": "markdown",
   "id": "1af4fcd6",
   "metadata": {},
   "source": [
    "### 2. Clean this test data, using the function clean_review(), as before. "
   ]
  },
  {
   "cell_type": "code",
   "execution_count": 37,
   "id": "1ffa28ee",
   "metadata": {},
   "outputs": [],
   "source": [
    "X_c = rotten_tomato_test.Phrase"
   ]
  },
  {
   "cell_type": "code",
   "execution_count": 38,
   "id": "11b3c13d",
   "metadata": {},
   "outputs": [],
   "source": [
    "t_temp=X_c.tolist()\n",
    "t_fax=[]\n",
    "for i in t_temp:\n",
    "    t_fax.append(clean_review(i))\n",
    "cr_X=pd.Series(t_fax)"
   ]
  },
  {
   "cell_type": "code",
   "execution_count": 39,
   "id": "22781aa8",
   "metadata": {},
   "outputs": [
    {
     "data": {
      "text/plain": [
       "0        intermittently pleasing mostly routine effort .\n",
       "1          intermittently pleasing mostly routine effort\n",
       "2                                                       \n",
       "3          intermittently pleasing mostly routine effort\n",
       "4                 intermittently pleasing mostly routine\n",
       "                              ...                       \n",
       "66287               long-winded , predictable scenario .\n",
       "66288                 long-winded , predictable scenario\n",
       "66289                                      long-winded ,\n",
       "66290                                        long-winded\n",
       "66291                               predictable scenario\n",
       "Length: 66292, dtype: object"
      ]
     },
     "execution_count": 39,
     "metadata": {},
     "output_type": "execute_result"
    }
   ],
   "source": [
    "cr_X"
   ]
  },
  {
   "cell_type": "markdown",
   "id": "5a69f730",
   "metadata": {},
   "source": [
    "### 3. Build TFIDF values using transform() method. "
   ]
  },
  {
   "cell_type": "code",
   "execution_count": 40,
   "id": "d13a3faf",
   "metadata": {},
   "outputs": [],
   "source": [
    "from sklearn.feature_extraction.text import TfidfVectorizer"
   ]
  },
  {
   "cell_type": "code",
   "execution_count": 41,
   "id": "746cb098",
   "metadata": {},
   "outputs": [
    {
     "data": {
      "text/plain": [
       "TfidfVectorizer(ngram_range=(1, 3))"
      ]
     },
     "execution_count": 41,
     "metadata": {},
     "output_type": "execute_result"
    }
   ],
   "source": [
    "tf_1=TfidfVectorizer(use_idf=True,ngram_range=(1,3),min_df = 1)\n",
    "tf_1"
   ]
  },
  {
   "cell_type": "code",
   "execution_count": 44,
   "id": "ec046e59",
   "metadata": {},
   "outputs": [
    {
     "data": {
      "text/plain": [
       "<66292x61283 sparse matrix of type '<class 'numpy.float64'>'\n",
       "\twith 571899 stored elements in Compressed Sparse Row format>"
      ]
     },
     "execution_count": 44,
     "metadata": {},
     "output_type": "execute_result"
    }
   ],
   "source": [
    "vec=tf_1.fit_transform(cr_X)\n",
    "vec"
   ]
  },
  {
   "cell_type": "code",
   "execution_count": null,
   "id": "670988d3",
   "metadata": {},
   "outputs": [],
   "source": []
  },
  {
   "cell_type": "code",
   "execution_count": null,
   "id": "a59a971a",
   "metadata": {},
   "outputs": [],
   "source": []
  }
 ],
 "metadata": {
  "kernelspec": {
   "display_name": "Python 3",
   "language": "python",
   "name": "python3"
  },
  "language_info": {
   "codemirror_mode": {
    "name": "ipython",
    "version": 3
   },
   "file_extension": ".py",
   "mimetype": "text/x-python",
   "name": "python",
   "nbconvert_exporter": "python",
   "pygments_lexer": "ipython3",
   "version": "3.8.8"
  }
 },
 "nbformat": 4,
 "nbformat_minor": 5
}
